{
 "cells": [
  {
   "cell_type": "markdown",
   "metadata": {},
   "source": [
    "## 📝 문제 1. 사탕 최대한 많이 먹기\n",
    "\n",
    "#### 🔸 문제 설명\n",
    "여러 개의 사탕이 일렬로 놓여 있고, 각각을 먹는 데 걸리는 시간이 다릅니다.\n",
    "\n",
    "**총 K초**가 주어졌을 때, 시간 안에 먹을 수 있는 **최대 사탕 개수**를 리턴하는 함수를 완성해주세요.\n",
    "\n",
    "단, 사탕은 먹는 순서를 자유롭게 바꿀 수 있습니다. \n",
    "즉, **시간이 적게 걸리는 사탕부터 먹는 것이 가장 유리합니다.**\n",
    "\n",
    "#### 🔸 입력\n",
    "- 사탕 시간 리스트: 정수 리스트 (예: [2, 1, 3, 1, 2])\n",
    "- 제한 시간 K: 정수 (예: 5)\n",
    "\n",
    "#### 🔸 출력\n",
    "- 제한 시간 내에 먹을 수 있는 사탕의 최대 개수 (정수)\n",
    "\n",
    "#### 📌 예시\n",
    "**입력:**\n",
    "```python\n",
    "candy_times = [2, 1, 3, 1, 2]\n",
    "K = 5\n",
    "```\n",
    "**출력:**\n",
    "```\n",
    "3\n",
    "```\n",
    "(1초짜리 2개 + 2초짜리 1개 = 총 4초 사용)"
   ]
  },
  {
   "cell_type": "markdown",
   "metadata": {},
   "source": [
    "함수를 완성시켜주세요!"
   ]
  },
  {
   "cell_type": "code",
   "execution_count": 1,
   "metadata": {},
   "outputs": [
    {
     "name": "stdout",
     "output_type": "stream",
     "text": [
      "최대로 먹을 수 있는 사탕 개수: 5\n"
     ]
    }
   ],
   "source": [
    "def max_candies(candy_times, k):\n",
    "    candy_times.sort()  # 시간 기준 오름차순 정렬\n",
    "    total_time = 0\n",
    "    count = 0\n",
    "    for time in candy_times:\n",
    "        if total_time + time <= k:\n",
    "            total_time += time\n",
    "            count += 1\n",
    "        else:\n",
    "            break\n",
    "    return count  # 제한 시간 내에 먹을 수 있는 사탕의 최대 개수 리턴\n",
    "\n",
    "\n",
    "# 아래는 입력 및 함수 실행 부분\n",
    "times_input = input(\"사탕 시간 리스트를 입력하세요 (예: 2,1,3,1,2): \")\n",
    "candy_times = list(map(int, times_input.split(',')))\n",
    "K = int(input(\"제한 시간(K)을 입력하세요: \"))\n",
    "result = max_candies(candy_times, K)\n",
    "print(f\"최대로 먹을 수 있는 사탕 개수: {result}\")\n",
    "\n"
   ]
  }
 ],
 "metadata": {
  "kernelspec": {
   "display_name": ".venv",
   "language": "python",
   "name": "python3"
  },
  "language_info": {
   "codemirror_mode": {
    "name": "ipython",
    "version": 3
   },
   "file_extension": ".py",
   "mimetype": "text/x-python",
   "name": "python",
   "nbconvert_exporter": "python",
   "pygments_lexer": "ipython3",
   "version": "3.13.3"
  }
 },
 "nbformat": 4,
 "nbformat_minor": 2
}
